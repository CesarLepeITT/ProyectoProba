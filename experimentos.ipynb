{
 "cells": [
  {
   "cell_type": "code",
   "execution_count": null,
   "metadata": {},
   "outputs": [],
   "source": [
    "import sklearn\n",
    "import pandas as pd\n",
    "import numpy as np\n",
    "import seaborn as sns\n",
    "import matplotlib.pyplot as plt\n",
    "import os\n",
    "from scipy.stats import norm"
   ]
  },
  {
   "cell_type": "code",
   "execution_count": null,
   "metadata": {},
   "outputs": [],
   "source": [
    "path = os.getcwd()\n",
    "path_datasets = path + \"/datasets/\"\n",
    "path_img = path + \"/img/\""
   ]
  },
  {
   "cell_type": "markdown",
   "metadata": {},
   "source": [
    "# Funciones"
   ]
  },
  {
   "cell_type": "code",
   "execution_count": null,
   "metadata": {},
   "outputs": [],
   "source": [
    "def get_figures(data, nombre , rango = ['inf', 'inf'], path_save = path_img):\n",
    "    media = data.mean()\n",
    "    std = data.std()\n",
    "    \n",
    "    fig = plt.figure(figsize=(12, 5))\n",
    "    gs = fig.add_gridspec(2, 3)  \n",
    "\n",
    "    ax1 = fig.add_subplot(gs[0, :])  \n",
    "    hist = sns.histplot(data, kde=True, ax=ax1,stat='count',color='skyblue')\n",
    "    ax1.set_ylabel('Cuenta')\n",
    "    ax1.set_title('(a)')\n",
    "        \n",
    "    ax2 = fig.add_subplot(gs[1, 0])  \n",
    "    sns.boxplot(data, ax=ax2, color='lightgray')\n",
    "    ax2.set_title('(b)')\n",
    "\n",
    "    data_normalizada = np.random.normal(loc=0, scale=1, size=1000000)\n",
    "    ax3 = fig.add_subplot(gs[1, 1:])  \n",
    "    kde = sns.kdeplot(data_normalizada, ax=ax3, color='orange')\n",
    "    ax3.set_title('(c)')\n",
    "    ax3.set_ylabel('')\n",
    "    x = kde.lines[0].get_xdata()\n",
    "    y = kde.lines[0].get_ydata()\n",
    "    \n",
    "    x_hist = hist.lines[0].get_xdata()\n",
    "    y_hist = hist.lines[0].get_ydata()\n",
    "    \n",
    "    z_i = 'inf'\n",
    "    z_f = 'inf'\n",
    "    \n",
    "    prob = 1\n",
    "    if(rango[0] != 'inf'):\n",
    "        z_i = (rango[0] - media)/std\n",
    "    if(rango[1] != 'inf'):\n",
    "        z_f = (rango[1] - media)/std\n",
    "\n",
    "    color_relleno = 'orange'\n",
    "    color_relleno_hist = 'grey'\n",
    "    if(rango[0] == 'inf' and rango[1] == 'inf'):\n",
    "        ax3.fill(x, y, color = color_relleno)\n",
    "        ax1.fill(x_hist, y_hist, color = color_relleno_hist, alpha = 0.3)\n",
    "        ax1.legend(title=f'P(-inf<X<inf)\\nMedia: {media:.2f} \\nDesviación Estándar: {std:.2f}', loc='upper right')  \n",
    "        ax3.legend(title = f'P(-inf<Z<inf)\\nProbabilidad: {prob * 100: 0.2f}%')   \n",
    "    elif(rango[0] == 'inf' and rango[1] != 'inf'): # x <= Z\n",
    "        prob = norm.cdf(z_f)\n",
    "        ax3.fill_between(x, y, where=(x <= z_f), color=color_relleno, alpha=0.3)\n",
    "        ax1.fill_between(x_hist, y_hist, where=(x_hist <= rango[1]), color=color_relleno_hist, alpha=0.3)\n",
    "        ax1.legend(title=f'P(-inf<X<{rango[1]:0.2f})\\nMedia: {media:.2f} \\nDesviación Estándar: {std:.2f}', loc='upper right')  \n",
    "        ax3.legend(title = f'P(-inf<Z<{z_f:0.2f})\\nProbabilidad: {prob * 100: 0.2f}%')\n",
    "    elif(rango[0] != 'inf' and rango[1] == 'inf'): # x x >=1\n",
    "        prob = 1 - norm.cdf(z_i)\n",
    "        ax3.fill_between(x, y, where=(x >= z_i), color=color_relleno, alpha=0.3)\n",
    "        ax1.fill_between(x_hist, y_hist, where=(x_hist >= rango[0]), color=color_relleno_hist, alpha=0.3)\n",
    "        ax1.legend(title=f'P({rango[0]:0.2f}<X<inf)\\nMedia: {media:.2f} \\nDesviación Estándar: {std:.2f}', loc='upper right')  \n",
    "        ax3.legend(title = f'P({z_i:0.2f}<Z<inf)\\nProbabilidad: {prob * 100: 0.2f}%')\n",
    "    else:\n",
    "        prob = norm.cdf(z_f) - norm.cdf(z_i)\n",
    "        ax3.fill_between(x, y, where=(x >= z_i) & (x <= z_f), color=color_relleno, alpha=0.3)\n",
    "        ax1.fill_between(x_hist, y_hist, where=(x_hist >= rango[0]) & (x_hist <= rango[1]), color=color_relleno_hist, alpha=0.3)\n",
    "        ax1.legend(title=f'P({rango[0]:0.2f}<X<{rango[1]:0.2f})\\nMedia: {media:.2f} \\nDesviación Estándar: {std:.2f}', loc='upper right')  \n",
    "        ax3.legend(title = f'P({z_i:0.2f}<Z<{z_f:0.2f})\\nProbabilidad: {prob * 100: 0.2f}%')\n",
    "\n",
    "\n",
    "    plt.tight_layout()\n",
    "    \n",
    "    \n",
    "    plt.savefig(path_save + nombre +'.png', dpi = 300)\n",
    "    plt.show()"
   ]
  },
  {
   "cell_type": "markdown",
   "metadata": {},
   "source": [
    "# Height Wight"
   ]
  },
  {
   "cell_type": "code",
   "execution_count": null,
   "metadata": {},
   "outputs": [],
   "source": [
    "nombre = 'HeightWeight'"
   ]
  },
  {
   "cell_type": "code",
   "execution_count": null,
   "metadata": {},
   "outputs": [],
   "source": [
    "HeightWeight = pd.read_csv(path_datasets + nombre + '.csv', index_col=0)"
   ]
  },
  {
   "cell_type": "code",
   "execution_count": null,
   "metadata": {},
   "outputs": [],
   "source": [
    "# Transformar data a sistema internacional\n",
    "HeightWeight['Altura(cm)'] = HeightWeight['Height(Inches)'] * 2.54\n",
    "HeightWeight['Peso(kg)'] = HeightWeight['Weight(Pounds)'] * 0.453592\n",
    "HeightWeight.drop('Height(Inches)', axis = 1, inplace=True)\n",
    "HeightWeight.drop('Weight(Pounds)', axis = 1, inplace=True)\n",
    "HeightWeight"
   ]
  },
  {
   "cell_type": "markdown",
   "metadata": {},
   "source": [
    "## Peso Experimento 1"
   ]
  },
  {
   "cell_type": "code",
   "execution_count": null,
   "metadata": {},
   "outputs": [],
   "source": [
    "get_figures(HeightWeight['Peso(kg)'], nombre='1_Peso', rango = [50,60])"
   ]
  },
  {
   "cell_type": "markdown",
   "metadata": {},
   "source": [
    "## Altura - experimento 2"
   ]
  },
  {
   "cell_type": "code",
   "execution_count": null,
   "metadata": {},
   "outputs": [],
   "source": [
    "get_figures(HeightWeight['Altura(cm)'], nombre='2_Altura',rango=['inf', 172])"
   ]
  },
  {
   "cell_type": "markdown",
   "metadata": {},
   "source": [
    "# Banana"
   ]
  },
  {
   "cell_type": "code",
   "execution_count": null,
   "metadata": {},
   "outputs": [],
   "source": [
    "\n",
    "nombre = 'banana_quality'\n",
    "banana = pd.read_csv(path_datasets + nombre +'.csv', index_col= 0)\n",
    "banana.rename(columns={'quality_score':'Calificación', \n",
    "                                'ripeness_index':'Índice de madurez',\n",
    "                                'length_cm':'Largo(cm)', \n",
    "                                'weight_g':'Peso(g)', \n",
    "                                'tree_age_years':'Edad del árbol(años)', \n",
    "                                'altitude_m': 'Altitud(m)', \n",
    "                                'rainfall_mm':'Lluvia(mm)', \n",
    "                                'soil_nitrogen_ppm':'Nitrógeno en el suelo(ppm)',\n",
    "                                'sugar_content_brix': 'Índice de Brix del azúcar',\n",
    "                                'firmness_kgf':'Firmeza(kgf)'}, inplace = True)\n",
    "\n",
    "banana.drop(columns=['variety', 'region', 'quality_category', 'harvest_date','ripeness_category'], inplace = True)\n",
    "len(banana['Altitud(m)'])"
   ]
  },
  {
   "cell_type": "markdown",
   "metadata": {},
   "source": [
    "## Calificacion de la banana - experimento 3"
   ]
  },
  {
   "cell_type": "code",
   "execution_count": null,
   "metadata": {},
   "outputs": [],
   "source": [
    "get_figures(banana['Calificación'], nombre='3_Calificacion_banana', rango=[1.9,'inf'])"
   ]
  },
  {
   "cell_type": "markdown",
   "metadata": {},
   "source": [
    "## Indice de madurez - experimento 4"
   ]
  },
  {
   "cell_type": "code",
   "execution_count": null,
   "metadata": {},
   "outputs": [],
   "source": [
    "get_figures(banana['Índice de madurez'], nombre='4_Indice_madurez_banana', rango=[2,5])"
   ]
  },
  {
   "cell_type": "markdown",
   "metadata": {},
   "source": [
    "## Indice Briz de azucar - experimento 5"
   ]
  },
  {
   "cell_type": "code",
   "execution_count": null,
   "metadata": {},
   "outputs": [],
   "source": [
    "get_figures(banana['Índice de Brix del azúcar'], nombre = '5_Indice_azucar_banana', rango=[20, 'inf'])"
   ]
  },
  {
   "cell_type": "markdown",
   "metadata": {},
   "source": [
    "## Peso banana - experimento 6"
   ]
  },
  {
   "cell_type": "code",
   "execution_count": null,
   "metadata": {},
   "outputs": [],
   "source": [
    "get_figures(banana['Peso(g)'], nombre = '6_Peso_banana', rango=[105.39, 'inf'])"
   ]
  },
  {
   "cell_type": "markdown",
   "metadata": {},
   "source": [
    "## Edad arbol banana - experimento 7"
   ]
  },
  {
   "cell_type": "code",
   "execution_count": null,
   "metadata": {},
   "outputs": [],
   "source": [
    "get_figures(banana['Edad del árbol(años)'], nombre = '7_Edad_arbol_banana', rango=[12.34,14.21])"
   ]
  },
  {
   "cell_type": "markdown",
   "metadata": {},
   "source": [
    "## Altitud banana - experimento 8"
   ]
  },
  {
   "cell_type": "code",
   "execution_count": null,
   "metadata": {},
   "outputs": [],
   "source": [
    "get_figures(banana['Altitud(m)'], nombre = '8_Altitud_banana', rango=[200, 1000])"
   ]
  },
  {
   "cell_type": "markdown",
   "metadata": {},
   "source": [
    "## Lluvia banana - experimento 9"
   ]
  },
  {
   "cell_type": "code",
   "execution_count": null,
   "metadata": {},
   "outputs": [],
   "source": [
    "get_figures(banana['Lluvia(mm)'], nombre = '9_Lluvia_banana', rango=[1789.12, 'inf'])"
   ]
  },
  {
   "cell_type": "markdown",
   "metadata": {},
   "source": [
    "## Nitrogeno en suelo - experimento 10"
   ]
  },
  {
   "cell_type": "code",
   "execution_count": null,
   "metadata": {},
   "outputs": [],
   "source": [
    "get_figures(banana['Nitrógeno en el suelo(ppm)'], nombre = '10_Nitrogeno_banana', rango=['inf', 102])"
   ]
  },
  {
   "cell_type": "markdown",
   "metadata": {},
   "source": [
    "## Firmeza banana - expermento 11"
   ]
  },
  {
   "cell_type": "code",
   "execution_count": null,
   "metadata": {},
   "outputs": [],
   "source": [
    "get_figures(banana['Firmeza(kgf)'], nombre = '11_firmeza_banana', rango=[3, 'inf'])"
   ]
  },
  {
   "cell_type": "markdown",
   "metadata": {},
   "source": [
    "# Tortilla prices"
   ]
  },
  {
   "cell_type": "code",
   "execution_count": 115,
   "metadata": {},
   "outputs": [
    {
     "name": "stdout",
     "output_type": "stream",
     "text": [
      "3.87\n"
     ]
    },
    {
     "data": {
      "text/plain": [
       "282755"
      ]
     },
     "execution_count": 115,
     "metadata": {},
     "output_type": "execute_result"
    }
   ],
   "source": [
    "nombre = 'tortilla_prices'\n",
    "tortilla = pd.read_csv(path_datasets + nombre +'.csv')\n",
    "tortilla.dropna(inplace = True)\n",
    "tortilla.rename(columns={'Price per kilogram':'Precio por kg de tortillas'}, inplace=True)\n",
    "tortilla = tortilla[(tortilla != 0).all(axis=1)]\n",
    "\n",
    "print(tortilla['Precio por kg de tortillas'].min())\n",
    "len(tortilla['Precio por kg de tortillas'])"
   ]
  },
  {
   "cell_type": "markdown",
   "metadata": {},
   "source": [
    "## Precio tortilla - experimento 12"
   ]
  },
  {
   "cell_type": "code",
   "execution_count": null,
   "metadata": {},
   "outputs": [],
   "source": [
    "get_figures(tortilla['Precio por kg de tortillas'], nombre = '12_precio_tortilla', rango=[10,13])"
   ]
  },
  {
   "cell_type": "markdown",
   "metadata": {},
   "source": [
    "# Food and nutrition"
   ]
  },
  {
   "cell_type": "code",
   "execution_count": null,
   "metadata": {},
   "outputs": [],
   "source": [
    "nombre = 'Food_and_Nutrition'\n",
    "food_nutrition = pd.read_csv(path_datasets + nombre +'.csv')\n",
    "food_nutrition.drop(columns=['Ages',\n",
    "                     'Gender',\n",
    "                     'Dietary Preference',\n",
    "                     'Activity Level',\n",
    "                     'Breakfast Suggestion',\n",
    "                     'Lunch Suggestion',\n",
    "                     'Dinner Suggestion',\n",
    "                     'Snack Suggestion',\n",
    "                     'Disease',\n",
    "                     'Weight',\n",
    "                     'Height',\n",
    "                     'Daily Calorie Target'], inplace = True)\n",
    "\n",
    "food_nutrition.rename(columns={'Protein':'Proteínas(g)',\n",
    "                       'Sugar': 'Azúcar(g)',\n",
    "                       'Sodium':'Sodio(mg)',\n",
    "                       'Calories': 'Calorías',\n",
    "                       'Carbohydrates': 'Carbohidratos(g)',\n",
    "                       'Fiber':'Fibra(g)',\n",
    "                       'Fat':'Grasa(g)'}, inplace = True)\n",
    "\n",
    "food_nutrition"
   ]
  },
  {
   "cell_type": "code",
   "execution_count": 116,
   "metadata": {},
   "outputs": [
    {
     "data": {
      "text/plain": [
       "1698"
      ]
     },
     "execution_count": 116,
     "metadata": {},
     "output_type": "execute_result"
    }
   ],
   "source": [
    "len(food_nutrition['Azúcar(g)'])"
   ]
  },
  {
   "cell_type": "markdown",
   "metadata": {},
   "source": [
    "## Azucar food - experimento 13"
   ]
  },
  {
   "cell_type": "code",
   "execution_count": null,
   "metadata": {},
   "outputs": [],
   "source": [
    "get_figures(food_nutrition['Azúcar(g)'], nombre='13_azucar_nutricion', rango=[50,60])"
   ]
  },
  {
   "cell_type": "markdown",
   "metadata": {},
   "source": [
    "## Calorias food - experimento 14"
   ]
  },
  {
   "cell_type": "code",
   "execution_count": null,
   "metadata": {},
   "outputs": [],
   "source": [
    "get_figures(food_nutrition['Calorías'], nombre='14_calorias_nutricion', rango=[1000,3000])"
   ]
  },
  {
   "cell_type": "markdown",
   "metadata": {},
   "source": [
    "## Carbogidratos food - experimento 15"
   ]
  },
  {
   "cell_type": "code",
   "execution_count": null,
   "metadata": {},
   "outputs": [],
   "source": [
    "get_figures(food_nutrition['Carbohidratos(g)'], nombre='15_carbohidratos_nutricion', rango=['inf', 200])"
   ]
  },
  {
   "cell_type": "markdown",
   "metadata": {},
   "source": [
    "## Fibra food -experimento 16"
   ]
  },
  {
   "cell_type": "code",
   "execution_count": null,
   "metadata": {},
   "outputs": [],
   "source": [
    "get_figures(food_nutrition['Fibra(g)'], nombre='16_fibra_nutricion', rango=['inf', 10])"
   ]
  },
  {
   "cell_type": "markdown",
   "metadata": {},
   "source": [
    "## Grasa food -experimento 17"
   ]
  },
  {
   "cell_type": "code",
   "execution_count": null,
   "metadata": {},
   "outputs": [],
   "source": [
    "get_figures(food_nutrition['Grasa(g)'], nombre='17_grasa_nutricion', rango=[100, 'inf'])"
   ]
  },
  {
   "cell_type": "markdown",
   "metadata": {},
   "source": [
    "## Proteinas food - experimento 18"
   ]
  },
  {
   "cell_type": "code",
   "execution_count": null,
   "metadata": {},
   "outputs": [],
   "source": [
    "get_figures(food_nutrition['Proteínas(g)'], nombre='18_proteinas_nutricion', rango=['inf', 100])"
   ]
  },
  {
   "cell_type": "markdown",
   "metadata": {},
   "source": [
    "## Sodio food - experimento 19"
   ]
  },
  {
   "cell_type": "code",
   "execution_count": null,
   "metadata": {},
   "outputs": [],
   "source": [
    "get_figures(food_nutrition['Sodio(mg)'], nombre='19_sodio_nutricion', rango=[10, 70])"
   ]
  },
  {
   "cell_type": "markdown",
   "metadata": {},
   "source": [
    "# Plant health"
   ]
  },
  {
   "cell_type": "code",
   "execution_count": null,
   "metadata": {},
   "outputs": [],
   "source": [
    "nombre = 'plant_health'\n",
    "plant = pd.read_csv(path_datasets + nombre + '.csv')\n",
    "plant.rename(columns={'Electrochemical_Signal':'Señal electroquímica'}, inplace = True)\n",
    "plant"
   ]
  },
  {
   "cell_type": "code",
   "execution_count": 117,
   "metadata": {},
   "outputs": [
    {
     "data": {
      "text/plain": [
       "1200"
      ]
     },
     "execution_count": 117,
     "metadata": {},
     "output_type": "execute_result"
    }
   ],
   "source": [
    "len(plant['Ambient_Temperature'])"
   ]
  },
  {
   "cell_type": "markdown",
   "metadata": {},
   "source": [
    "## Senal electroquimica - experimento 20"
   ]
  },
  {
   "cell_type": "code",
   "execution_count": null,
   "metadata": {},
   "outputs": [],
   "source": [
    "get_figures(plant['Señal electroquímica'], nombre='20_senal_planta', rango=['inf', 2])"
   ]
  },
  {
   "cell_type": "markdown",
   "metadata": {},
   "source": [
    "# User behavior"
   ]
  },
  {
   "cell_type": "code",
   "execution_count": null,
   "metadata": {},
   "outputs": [],
   "source": [
    "nombre = 'user_behavior'"
   ]
  },
  {
   "cell_type": "code",
   "execution_count": null,
   "metadata": {},
   "outputs": [],
   "source": [
    "user_behavior = pd.read_csv(path_datasets + nombre +'.csv')\n",
    "user_behavior"
   ]
  },
  {
   "cell_type": "markdown",
   "metadata": {},
   "source": [
    "# Water quality"
   ]
  },
  {
   "cell_type": "code",
   "execution_count": null,
   "metadata": {},
   "outputs": [],
   "source": [
    "nombre = 'water_quality'"
   ]
  },
  {
   "cell_type": "code",
   "execution_count": null,
   "metadata": {},
   "outputs": [],
   "source": [
    "water = pd.read_csv(path_datasets + nombre + '.csv')\n",
    "water\n"
   ]
  }
 ],
 "metadata": {
  "kernelspec": {
   "display_name": "gsgp",
   "language": "python",
   "name": "python3"
  },
  "language_info": {
   "codemirror_mode": {
    "name": "ipython",
    "version": 3
   },
   "file_extension": ".py",
   "mimetype": "text/x-python",
   "name": "python",
   "nbconvert_exporter": "python",
   "pygments_lexer": "ipython3",
   "version": "3.12.7"
  }
 },
 "nbformat": 4,
 "nbformat_minor": 2
}
